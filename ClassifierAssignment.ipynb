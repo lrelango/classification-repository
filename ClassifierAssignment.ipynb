{
 "cells": [
  {
   "cell_type": "code",
   "execution_count": 27,
   "id": "186b04da",
   "metadata": {},
   "outputs": [],
   "source": [
    "import pandas as pd"
   ]
  },
  {
   "cell_type": "code",
   "execution_count": 67,
   "id": "f5d6a7e8",
   "metadata": {},
   "outputs": [],
   "source": [
    "def split_preprocess(independent,dependent):\n",
    "    from sklearn.preprocessing import StandardScaler\n",
    "    from sklearn.model_selection import train_test_split\n",
    "    x_train,x_test,y_train,y_test=train_test_split(independent,dependent,test_size=0.25,random_state=0)\n",
    "    \n",
    "    sc=StandardScaler()\n",
    "    x_train=sc.fit_transform(x_train)\n",
    "    x_test=sc.transform(x_test)\n",
    "    return x_train,x_test,y_train,y_test"
   ]
  },
  {
   "cell_type": "code",
   "execution_count": 68,
   "id": "ce4bdd50",
   "metadata": {},
   "outputs": [],
   "source": [
    "def logistic(x_train,y_train):\n",
    "    from sklearn.linear_model import LogisticRegression\n",
    "    classifier=LogisticRegression()\n",
    "    classifier.fit(x_train,y_train)\n",
    "    return classifier"
   ]
  },
  {
   "cell_type": "code",
   "execution_count": 69,
   "id": "5f7fbcee",
   "metadata": {},
   "outputs": [],
   "source": [
    "def DTree(x_train,y_train):\n",
    "    from sklearn.tree import DecisionTreeClassifier\n",
    "    classifier=DecisionTreeClassifier(criterion='gini',splitter='best',max_features='sqrt')\n",
    "    classifier.fit(x_train,y_train)\n",
    "    return classifier"
   ]
  },
  {
   "cell_type": "code",
   "execution_count": 70,
   "id": "3af551e9",
   "metadata": {},
   "outputs": [],
   "source": [
    "def RF(x_train,y_train):\n",
    "    from sklearn.ensemble import RandomForestClassifier\n",
    "    classifier=RandomForestClassifier(criterion='gini',n_estimators=50)\n",
    "    classifier.fit(x_train,y_train)\n",
    "    return classifier"
   ]
  },
  {
   "cell_type": "code",
   "execution_count": 76,
   "id": "c18a989e",
   "metadata": {},
   "outputs": [],
   "source": [
    "def NB(x_train,y_train):\n",
    "    from sklearn.naive_bayes import GaussianNB\n",
    "    classifier=GaussianNB(var_smoothing=1e-9)\n",
    "    classifier.fit(independent, dependent)\n",
    "    return classifier"
   ]
  },
  {
   "cell_type": "code",
   "execution_count": 80,
   "id": "311dd37f",
   "metadata": {},
   "outputs": [],
   "source": [
    "def KNN(x_train,y_train):\n",
    "    from sklearn.neighbors import KNeighborsClassifier\n",
    "    classifier=KNeighborsClassifier()\n",
    "    classifier.fit(independent, dependent)\n",
    "    return classifier"
   ]
  },
  {
   "cell_type": "code",
   "execution_count": 81,
   "id": "625ae47d",
   "metadata": {},
   "outputs": [],
   "source": [
    "def SVM(x_train,y_train):\n",
    "    from sklearn.svm import SVC\n",
    "    classifier=SVC()\n",
    "    classifier.fit(independent, dependent)\n",
    "    return classifier"
   ]
  },
  {
   "cell_type": "code",
   "execution_count": 87,
   "id": "b24c6679",
   "metadata": {},
   "outputs": [],
   "source": [
    "def classifier_results(classifier,x_test,y_test):\n",
    "    y_pred=classifier.predict(x_test)\n",
    "    from sklearn.metrics import accuracy_score,confusion_matrix,classification_report\n",
    "    ascore=accuracy_score(y_test,y_pred)\n",
    "    cmatrix=confusion_matrix(y_test,y_pred)\n",
    "    creport=classification_report(y_test,y_pred,zero_division=0)\n",
    "    print(f'accuracy score is : {ascore}')\n",
    "    print(f'confusion_matrix is : {cmatrix}')\n",
    "    print(f'classification_report is : {creport}')"
   ]
  },
  {
   "cell_type": "code",
   "execution_count": 89,
   "id": "b37afbac",
   "metadata": {},
   "outputs": [
    {
     "name": "stdout",
     "output_type": "stream",
     "text": [
      "accuracy score is : 0.64\n",
      "confusion_matrix is : [[ 0 36]\n",
      " [ 0 64]]\n",
      "classification_report is :               precision    recall  f1-score   support\n",
      "\n",
      "           0       0.00      0.00      0.00        36\n",
      "           1       0.64      1.00      0.78        64\n",
      "\n",
      "    accuracy                           0.64       100\n",
      "   macro avg       0.32      0.50      0.39       100\n",
      "weighted avg       0.41      0.64      0.50       100\n",
      "\n"
     ]
    },
    {
     "name": "stderr",
     "output_type": "stream",
     "text": [
      "C:\\Users\\Admin\\anaconda3\\envs\\aiml\\lib\\site-packages\\sklearn\\base.py:451: UserWarning: X does not have valid feature names, but SVC was fitted with feature names\n",
      "  \"X does not have valid feature names, but\"\n"
     ]
    }
   ],
   "source": [
    "dataset=pd.read_csv(\"CKD.csv\")\n",
    "dataset=pd.get_dummies(dataset,drop_first=True)\n",
    "\n",
    "independent=dataset.drop('classification_yes',axis=1)\n",
    "dependent=dataset['classification_yes']\n",
    "\n",
    "x_train,x_test,y_train,y_test = split_preprocess(independent, dependent)\n",
    "#classifier = logistic(x_train,y_train)\n",
    "#classifier_results(classifier,x_test,y_test)\n",
    "\n",
    "#classifier = DTree(x_train,y_train)\n",
    "#classifier_results(classifier,x_test,y_test)\n",
    "\n",
    "#classifier = RF(x_train,y_train)\n",
    "#classifier_results(classifier,x_test,y_test)\n",
    "\n",
    "#classifier = NB(x_train,y_train)\n",
    "#classifier_results(classifier,x_test,y_test)\n",
    "\n",
    "#classifier = KNN(x_train,y_train)\n",
    "#classifier_results(classifier,x_test,y_test)\n",
    "\n",
    "classifier = SVM(x_train,y_train)\n",
    "classifier_results(classifier,x_test,y_test)"
   ]
  },
  {
   "cell_type": "code",
   "execution_count": null,
   "id": "817d2cfb",
   "metadata": {},
   "outputs": [],
   "source": []
  }
 ],
 "metadata": {
  "kernelspec": {
   "display_name": "Python 3 (ipykernel)",
   "language": "python",
   "name": "python3"
  },
  "language_info": {
   "codemirror_mode": {
    "name": "ipython",
    "version": 3
   },
   "file_extension": ".py",
   "mimetype": "text/x-python",
   "name": "python",
   "nbconvert_exporter": "python",
   "pygments_lexer": "ipython3",
   "version": "3.7.1"
  }
 },
 "nbformat": 4,
 "nbformat_minor": 5
}
